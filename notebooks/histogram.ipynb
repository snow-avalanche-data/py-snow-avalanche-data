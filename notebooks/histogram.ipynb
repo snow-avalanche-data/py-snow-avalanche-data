{
 "cells": [
  {
   "cell_type": "code",
   "execution_count": null,
   "id": "5c3bbe31-6af6-4520-ad58-64c2fb22058f",
   "metadata": {},
   "outputs": [],
   "source": [
    "import numpy as np\n",
    "import matplotlib.pyplot as plt\n",
    "from astropy.visualization import hist"
   ]
  },
  {
   "cell_type": "code",
   "execution_count": null,
   "id": "fbd616a5-0851-41d5-9e44-c874ca2a3b55",
   "metadata": {},
   "outputs": [],
   "source": [
    "from SnowAvalancheData.Analyse import Analysis"
   ]
  },
  {
   "cell_type": "code",
   "execution_count": null,
   "id": "bd5cc745-d0d2-4ab7-b13e-c89d34ab8a08",
   "metadata": {},
   "outputs": [],
   "source": [
    "data_path = Analysis.relative_to_source('data', 'anena-accidents.json')"
   ]
  },
  {
   "cell_type": "code",
   "execution_count": null,
   "id": "860a5eda-68d9-46c6-b104-584d7770e685",
   "metadata": {},
   "outputs": [],
   "source": [
    "analysis = Analysis(data_path)"
   ]
  },
  {
   "cell_type": "code",
   "execution_count": null,
   "id": "4fb872fd-d8b8-4871-bcf8-be293df06dca",
   "metadata": {},
   "outputs": [],
   "source": [
    "analysis.filter_data()"
   ]
  },
  {
   "cell_type": "code",
   "execution_count": null,
   "id": "a85abb05-01ca-44a2-8f6a-221008a1e7c1",
   "metadata": {},
   "outputs": [],
   "source": [
    "attribute = 'altitude'\n",
    "attribute = 'height_difference'\n",
    "attribute = 'length'\n",
    "values = analysis.filtered_accidents.vectorise(attribute)"
   ]
  },
  {
   "cell_type": "code",
   "execution_count": null,
   "id": "eea8faa0-7751-4e0d-8e05-c8e98acedfd1",
   "metadata": {},
   "outputs": [],
   "source": [
    "fig, ax = plt.subplots(2, 2, figsize=(20, 10))\n",
    "\n",
    "for i, bins in enumerate(('scott', 'freedman', 'knuth', 'blocks')):\n",
    "    axis = ax.flat[i]\n",
    "    hist(values, bins=bins, ax=axis, histtype='stepfilled', alpha=0.2, density=False)\n",
    "    axis.set_title(f'{bins}')"
   ]
  },
  {
   "cell_type": "code",
   "execution_count": null,
   "id": "2f3f9eaa-8583-4fb4-ac63-51a0e58a56bd",
   "metadata": {},
   "outputs": [],
   "source": []
  }
 ],
 "metadata": {
  "kernelspec": {
   "display_name": "Python 3 (ipykernel)",
   "language": "python",
   "name": "python3"
  },
  "language_info": {
   "codemirror_mode": {
    "name": "ipython",
    "version": 3
   },
   "file_extension": ".py",
   "mimetype": "text/x-python",
   "name": "python",
   "nbconvert_exporter": "python",
   "pygments_lexer": "ipython3",
   "version": "3.10.2"
  }
 },
 "nbformat": 4,
 "nbformat_minor": 5
}

{
 "cells": [
  {
   "cell_type": "code",
   "execution_count": null,
   "id": "fbd616a5-0851-41d5-9e44-c874ca2a3b55",
   "metadata": {},
   "outputs": [],
   "source": [
    "from SnowAvalancheData.Analyse import Analysis"
   ]
  },
  {
   "cell_type": "code",
   "execution_count": null,
   "id": "bd5cc745-d0d2-4ab7-b13e-c89d34ab8a08",
   "metadata": {},
   "outputs": [],
   "source": [
    "data_path = Analysis.relative_to_source('data', 'anena-accidents.json')"
   ]
  },
  {
   "cell_type": "code",
   "execution_count": null,
   "id": "860a5eda-68d9-46c6-b104-584d7770e685",
   "metadata": {},
   "outputs": [],
   "source": [
    "analysis = Analysis(data_path)"
   ]
  },
  {
   "cell_type": "code",
   "execution_count": null,
   "id": "abe86c8d-7487-4813-854c-15a3007a5c69",
   "metadata": {},
   "outputs": [],
   "source": [
    "map_ = analysis.display_map()"
   ]
  },
  {
   "cell_type": "code",
   "execution_count": null,
   "id": "4832b311-5527-4b2c-8928-c0823754690c",
   "metadata": {},
   "outputs": [],
   "source": [
    "map_"
   ]
  },
  {
   "cell_type": "code",
   "execution_count": null,
   "id": "be62fdf7-f302-4359-9996-389d5f48cebe",
   "metadata": {},
   "outputs": [],
   "source": [
    "map_.save('anena_accident_map.html', title='ANENA Accident Map')"
   ]
  },
  {
   "cell_type": "code",
   "execution_count": null,
   "id": "1d2196dc-a696-4479-a497-b109e9720e31",
   "metadata": {},
   "outputs": [],
   "source": []
  }
 ],
 "metadata": {
  "kernelspec": {
   "display_name": "Python 3 (ipykernel)",
   "language": "python",
   "name": "python3"
  },
  "language_info": {
   "codemirror_mode": {
    "name": "ipython",
    "version": 3
   },
   "file_extension": ".py",
   "mimetype": "text/x-python",
   "name": "python",
   "nbconvert_exporter": "python",
   "pygments_lexer": "ipython3",
   "version": "3.10.2"
  }
 },
 "nbformat": 4,
 "nbformat_minor": 5
}

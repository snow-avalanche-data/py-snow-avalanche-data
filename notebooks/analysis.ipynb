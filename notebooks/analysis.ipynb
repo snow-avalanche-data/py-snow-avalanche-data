{
 "cells": [
  {
   "cell_type": "code",
   "execution_count": null,
   "id": "fbd616a5-0851-41d5-9e44-c874ca2a3b55",
   "metadata": {},
   "outputs": [],
   "source": [
    "from SnowAvalancheData.Analyse import Analysis"
   ]
  },
  {
   "cell_type": "code",
   "execution_count": null,
   "id": "bd5cc745-d0d2-4ab7-b13e-c89d34ab8a08",
   "metadata": {},
   "outputs": [],
   "source": [
    "data_path = Analysis.relative_to_source('data', 'anena-accidents.json')"
   ]
  },
  {
   "cell_type": "code",
   "execution_count": null,
   "id": "860a5eda-68d9-46c6-b104-584d7770e685",
   "metadata": {},
   "outputs": [],
   "source": [
    "analysis = Analysis(data_path)"
   ]
  },
  {
   "cell_type": "code",
   "execution_count": null,
   "id": "4fb872fd-d8b8-4871-bcf8-be293df06dca",
   "metadata": {},
   "outputs": [],
   "source": [
    "analysis.filter_data()\n",
    "analysis.create_histograms()\n",
    "analysis.fill_histograms()\n",
    "analysis.post_process_histograms()\n",
    "analysis.dump_histograms()"
   ]
  },
  {
   "cell_type": "code",
   "execution_count": null,
   "id": "b68979b0-5326-4a04-9f51-88663b8ced2b",
   "metadata": {},
   "outputs": [],
   "source": [
    "analysis.plot()"
   ]
  },
  {
   "cell_type": "code",
   "execution_count": null,
   "id": "a85abb05-01ca-44a2-8f6a-221008a1e7c1",
   "metadata": {},
   "outputs": [],
   "source": []
  }
 ],
 "metadata": {
  "kernelspec": {
   "display_name": "Python 3 (ipykernel)",
   "language": "python",
   "name": "python3"
  },
  "language_info": {
   "codemirror_mode": {
    "name": "ipython",
    "version": 3
   },
   "file_extension": ".py",
   "mimetype": "text/x-python",
   "name": "python",
   "nbconvert_exporter": "python",
   "pygments_lexer": "ipython3",
   "version": "3.10.2"
  }
 },
 "nbformat": 4,
 "nbformat_minor": 5
}
